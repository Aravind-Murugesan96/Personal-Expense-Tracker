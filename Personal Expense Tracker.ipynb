{
 "cells": [
  {
   "cell_type": "markdown",
   "id": "5f6e9aba-b75b-4ba9-bbc7-9c8ba0058735",
   "metadata": {},
   "source": [
    "Problem statement:\n",
    "In today’s fast-paced world, individuals need to track and manage their expenses\n",
    "effectively. Your task is to build a personal expense tracker that allows users to log\n",
    "daily expenses, categorize them, and track spending against a monthly budget. The\n",
    "tracker should also be able to save and load expenses from a file for future\n",
    "reference.\n",
    "\n",
    "Objectives:\n",
    "\n",
    "* Design and implement a personal expense tracker that enables users to\n",
    "manage their expenses\n",
    "\n",
    "* Allow users to categorize expenses and set monthly budgets\n",
    "\n",
    "* Implement file-handling functionality to save and load expense data\n",
    "\n",
    "* Create an interactive, menu-driven interface for ease of use"
   ]
  },
  {
   "cell_type": "markdown",
   "id": "7ad2b896-4894-4e72-977a-f4c075044a09",
   "metadata": {},
   "source": [
    "1) add an expesnse"
   ]
  },
  {
   "cell_type": "code",
   "execution_count": 6,
   "id": "cd4f23fd-684e-4372-a667-c1a48411f197",
   "metadata": {},
   "outputs": [],
   "source": [
    "import csv\n",
    "\n",
    "def add_expense(expenses):\n",
    "    \n",
    "    date = input(\"Enter the date in (YYYY-MM-DD) format: \")\n",
    "    category = input(\"Enter the category (e.g. Travel, shopping): \")\n",
    "    amount = float(input(\"Enter the amount: \"))\n",
    "    description = input(\"Enter a brief description: \")\n",
    "    \n",
    "    expenses.append({\n",
    "        \"date\": date,\n",
    "        \"category\": category,\n",
    "        \"amount\": amount,\n",
    "        \"description\": description\n",
    "    })\n",
    "    print(\"Expense added successfully!\")"
   ]
  },
  {
   "cell_type": "markdown",
   "id": "811652bd-5bfa-4b8a-8cb6-56ed08e27c33",
   "metadata": {},
   "source": [
    "2) view expenses"
   ]
  },
  {
   "cell_type": "code",
   "execution_count": 7,
   "id": "a6dac09e-16c4-4878-a002-0f0216f2b926",
   "metadata": {},
   "outputs": [],
   "source": [
    "\n",
    "def view_expenses(expenses):\n",
    "    \n",
    "    if not expenses:\n",
    "        print(\"No expenses found\")\n",
    "    else:\n",
    "        for expense in expenses:\n",
    "            \n",
    "            if all(key in expense for key in ['date', 'category', 'amount', 'description']):\n",
    "                print(f\"Date: {expense['date']}, Category: {expense['category']}, Amount: {expense['amount']}, Description: {expense['description']}\")\n",
    "            else:\n",
    "                print(f\"Invalid expense record: {expense}\")\n"
   ]
  },
  {
   "cell_type": "markdown",
   "id": "d885fda1-8c59-4926-ba6c-839ab1182f94",
   "metadata": {},
   "source": [
    "3) Set and Track Budget"
   ]
  },
  {
   "cell_type": "code",
   "execution_count": 8,
   "id": "1c3a3a55-e4b4-4bd8-a7b8-cceb4e9495f3",
   "metadata": {},
   "outputs": [],
   "source": [
    "\n",
    "def set_budget():\n",
    "    \n",
    "    budget = float(input(\"Enter your monthly budget: \"))\n",
    "    return budget\n",
    "\n",
    "\n",
    "def track_budget(expenses, budget):\n",
    "    \n",
    "    total_expenses = sum(expense[\"amount\"] for expense in expenses)\n",
    "    print(f\"Total expenses: {total_expenses}\")\n",
    "    if total_expenses > budget:\n",
    "        print(\"Warning: You have exceeded your budget!\")\n",
    "    else:\n",
    "        print(f\"You are within your budget. You have {budget - total_expenses} remaining.\")\n"
   ]
  },
  {
   "cell_type": "markdown",
   "id": "7e3a2114-88a5-4cde-b708-c034a731d9f7",
   "metadata": {},
   "source": [
    "4) Save and load expenses"
   ]
  },
  {
   "cell_type": "code",
   "execution_count": 9,
   "id": "e1628f32-0d04-4589-960c-99a77153b5fb",
   "metadata": {},
   "outputs": [],
   "source": [
    "def save_expenses(expenses, filename=\"expenses.csv\"):\n",
    "    \"\"\"Function to save expenses to a file.\"\"\"\n",
    "    with open(filename, 'w', newline='') as file:\n",
    "        writer = csv.writer(file)\n",
    "        writer.writerow([\"Date\", \"Category\", \"Amount\", \"Description\"])\n",
    "        for expense in expenses:\n",
    "            writer.writerow([expense['date'], expense['category'], expense['amount'], expense['description']])\n",
    "    print(\"Expenses saved successfully.\")\n",
    "    \n",
    "def load_expenses(filename=\"expenses.csv\"):\n",
    "    \n",
    "    expenses = []\n",
    "    try:\n",
    "        with open(filename, 'r') as file:\n",
    "            reader = csv.DictReader(file)\n",
    "            for row in reader:\n",
    "                if all(key in row for key in ['Date', 'Category', 'Amount', 'Description']):                    \n",
    "                    row['Amount'] = float(row['Amount'])                    \n",
    "                    expense = {\n",
    "                        'date': row['Date'],\n",
    "                        'category': row['Category'],\n",
    "                        'amount': row['Amount'],\n",
    "                        'description': row['Description']\n",
    "                    }\n",
    "                    expenses.append(expense)\n",
    "                else:\n",
    "                    print(f\"Skipping invalid expense record: {row}\")\n",
    "    except FileNotFoundError:\n",
    "        print(\"No existing expenses found. Starting fresh.\")\n",
    "    return expenses\n"
   ]
  },
  {
   "cell_type": "markdown",
   "id": "3dc5ceb3-1d25-4587-a27a-eb4221682679",
   "metadata": {},
   "source": [
    "5) Create an interactive menu"
   ]
  },
  {
   "cell_type": "code",
   "execution_count": 10,
   "id": "51c567e1-22aa-479a-834a-bfc6d53fcaae",
   "metadata": {},
   "outputs": [
    {
     "name": "stdin",
     "output_type": "stream",
     "text": [
      "Enter your monthly budget:  30000\n"
     ]
    },
    {
     "name": "stdout",
     "output_type": "stream",
     "text": [
      "\n",
      "Personal Expense Tracker\n",
      "1. Add Expense\n",
      "2. View Expenses\n",
      "3. Track Budget\n",
      "4. Save Expenses\n",
      "5. Exit\n"
     ]
    },
    {
     "name": "stdin",
     "output_type": "stream",
     "text": [
      "Enter your choice:  2\n"
     ]
    },
    {
     "name": "stdout",
     "output_type": "stream",
     "text": [
      "Date: 2025-03-25, Category: travel, Amount: 10000.0, Description: we planeed a trip next month\n",
      "Date: 2025-06-25, Category: Shopping, Amount: 3000.0, Description: went for a shopping with family\n",
      "\n",
      "Personal Expense Tracker\n",
      "1. Add Expense\n",
      "2. View Expenses\n",
      "3. Track Budget\n",
      "4. Save Expenses\n",
      "5. Exit\n"
     ]
    },
    {
     "name": "stdin",
     "output_type": "stream",
     "text": [
      "Enter your choice:  3\n"
     ]
    },
    {
     "name": "stdout",
     "output_type": "stream",
     "text": [
      "Total expenses: 13000.0\n",
      "You are within your budget. You have 17000.0 remaining.\n",
      "\n",
      "Personal Expense Tracker\n",
      "1. Add Expense\n",
      "2. View Expenses\n",
      "3. Track Budget\n",
      "4. Save Expenses\n",
      "5. Exit\n"
     ]
    },
    {
     "name": "stdin",
     "output_type": "stream",
     "text": [
      "Enter your choice:  5\n"
     ]
    },
    {
     "name": "stdout",
     "output_type": "stream",
     "text": [
      "Expenses saved successfully.\n",
      "Exiting...\n"
     ]
    }
   ],
   "source": [
    "def main():\n",
    "    expenses = load_expenses()\n",
    "    budget = set_budget()\n",
    "    while True:\n",
    "        print(\"\\nPersonal Expense Tracker\")\n",
    "        print(\"1. Add Expense\")\n",
    "        print(\"2. View Expenses\")\n",
    "        print(\"3. Track Budget\")\n",
    "        print(\"4. Save Expenses\")\n",
    "        print(\"5. Exit\")\n",
    "        choice = input(\"Enter your choice: \")\n",
    "\n",
    "        if choice == '1':\n",
    "            add_expense(expenses)\n",
    "        elif choice == '2':\n",
    "            view_expenses(expenses)\n",
    "        elif choice == '3':\n",
    "            track_budget(expenses, budget)\n",
    "        elif choice == '4':\n",
    "            save_expenses(expenses)\n",
    "        elif choice == '5':\n",
    "            save_expenses(expenses)\n",
    "            print(\"Exiting...\")\n",
    "            break\n",
    "        else:\n",
    "            print(\"Invalid choice, please select a valid option.\")\n",
    "\n",
    "\n",
    "if __name__ == \"__main__\":\n",
    "    main()\n"
   ]
  },
  {
   "cell_type": "code",
   "execution_count": null,
   "id": "d98a29d9-9054-41cd-8a93-47d36696c5ae",
   "metadata": {},
   "outputs": [],
   "source": []
  },
  {
   "cell_type": "code",
   "execution_count": null,
   "id": "9fc14c79-b0f7-4e59-8058-11918ad6a8e2",
   "metadata": {},
   "outputs": [],
   "source": []
  }
 ],
 "metadata": {
  "kernelspec": {
   "display_name": "Python [conda env:base] *",
   "language": "python",
   "name": "conda-base-py"
  },
  "language_info": {
   "codemirror_mode": {
    "name": "ipython",
    "version": 3
   },
   "file_extension": ".py",
   "mimetype": "text/x-python",
   "name": "python",
   "nbconvert_exporter": "python",
   "pygments_lexer": "ipython3",
   "version": "3.12.7"
  }
 },
 "nbformat": 4,
 "nbformat_minor": 5
}
